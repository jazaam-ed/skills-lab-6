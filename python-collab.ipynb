{
 "cells": [
  {
   "cell_type": "markdown",
   "metadata": {},
   "source": [
    "**Skills Lab 6**\n",
    "\n",
    "Code by Zach Ball and James Karas"
   ]
  },
  {
   "cell_type": "code",
   "execution_count": null,
   "metadata": {},
   "outputs": [],
   "source": [
    "# Welcome to Message Reverser!\n",
    "\n",
    "# Take input from user and establish variables (Zach)\n",
    "name = input(\"What is your name?\")\n",
    "message = input(\"What do you have to say?\")\n",
    "\n",
    "# Loop through message and give output (James)\n",
    "\n",
    "reverse = \"\"\n",
    "for char in message:\n",
    "    reverse = char + reverse\n",
    "\n",
    "print(\"Hi there,\", name, \"!\")\n",
    "print(message, \"backwards is\", reverse)"
   ]
  }
 ],
 "metadata": {
  "kernelspec": {
   "display_name": "Python 3",
   "language": "python",
   "name": "python3"
  },
  "language_info": {
   "codemirror_mode": {
    "name": "ipython",
    "version": 3
   },
   "file_extension": ".py",
   "mimetype": "text/x-python",
   "name": "python",
   "nbconvert_exporter": "python",
   "pygments_lexer": "ipython3",
   "version": "3.8.3"
  }
 },
 "nbformat": 4,
 "nbformat_minor": 4
}
