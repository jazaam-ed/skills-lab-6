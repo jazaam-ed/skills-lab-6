{
 "cells": [
  {
   "cell_type": "markdown",
   "metadata": {},
   "source": [
    "# Welcome to Lab 6!\n",
    "\n",
    "### Program built by James and Zach"
   ]
  },
  {
   "cell_type": "code",
   "execution_count": 5,
   "metadata": {},
   "outputs": [
    {
     "name": "stdin",
     "output_type": "stream",
     "text": [
      "What is your name? Jimmy\n",
      "What do you have to say? Hi my name is Jimmy\n"
     ]
    },
    {
     "name": "stdout",
     "output_type": "stream",
     "text": [
      "\n",
      "Hi there, Jimmy !\n",
      "Hi my name is Jimmy reversed is ymmiJ si eman ym iH !\n"
     ]
    }
   ],
   "source": [
    "# this program will take the user's name and a simple message, then output that message backwards.\n",
    "\n",
    "# get user input for name and message and set to variables (Zach)\n",
    "\n",
    "name = input(\"What is your name?\")\n",
    "message = input(\"What do you have to say?\")\n",
    "\n",
    "# loop to create a new string of the reversed message, then output it (James)\n",
    "reverse = \"\"\n",
    "for char in message:\n",
    "    reverse = char + reverse\n",
    "\n",
    "print(\"\")\n",
    "print(\"Hi there,\", name, \"!\")\n",
    "print(message, \"reversed is\", reverse, \"!\")"
   ]
  },
  {
   "cell_type": "code",
   "execution_count": null,
   "metadata": {},
   "outputs": [],
   "source": []
  }
 ],
 "metadata": {
  "kernelspec": {
   "display_name": "Python 3",
   "language": "python",
   "name": "python3"
  },
  "language_info": {
   "codemirror_mode": {
    "name": "ipython",
    "version": 3
   },
   "file_extension": ".py",
   "mimetype": "text/x-python",
   "name": "python",
   "nbconvert_exporter": "python",
   "pygments_lexer": "ipython3",
   "version": "3.8.3"
  }
 },
 "nbformat": 4,
 "nbformat_minor": 4
}
